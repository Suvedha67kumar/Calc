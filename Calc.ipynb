{
 "cells": [
  {
   "cell_type": "code",
   "execution_count": 33,
   "id": "3f211a50-15d6-4ee1-85ef-584c4c68de42",
   "metadata": {},
   "outputs": [],
   "source": [
    "from pyspark.sql import SparkSession\n",
    "from pyspark.sql.types import StructType, StructField, StringType, IntegerType, TimestampType\n",
    "from datetime import datetime\n",
    "import pandas as pd\n",
    "import os"
   ]
  },
  {
   "cell_type": "code",
   "execution_count": 34,
   "id": "0a738634-5991-49ef-8bb4-4b8b134d40ac",
   "metadata": {},
   "outputs": [
    {
     "name": "stdout",
     "output_type": "stream",
     "text": [
      "Select an operation:\n",
      "1: Subtraction\n",
      "2: Multiplication\n",
      "3: Division\n",
      "4: Addition\n",
      "0: Exit\n"
     ]
    },
    {
     "name": "stdin",
     "output_type": "stream",
     "text": [
      "Enter your choice (0 to exit):  1\n",
      "Enter first number:  2\n",
      "Enter second number:  3\n"
     ]
    },
    {
     "name": "stdout",
     "output_type": "stream",
     "text": [
      "-1\n",
      "Select an operation:\n",
      "1: Subtraction\n",
      "2: Multiplication\n",
      "3: Division\n",
      "4: Addition\n",
      "0: Exit\n"
     ]
    },
    {
     "name": "stdin",
     "output_type": "stream",
     "text": [
      "Enter your choice (0 to exit):  4\n",
      "Enter first number:  3\n",
      "Enter second number:  4\n"
     ]
    },
    {
     "name": "stdout",
     "output_type": "stream",
     "text": [
      "7\n",
      "Select an operation:\n",
      "1: Subtraction\n",
      "2: Multiplication\n",
      "3: Division\n",
      "4: Addition\n",
      "0: Exit\n"
     ]
    },
    {
     "name": "stdin",
     "output_type": "stream",
     "text": [
      "Enter your choice (0 to exit):  0\n"
     ]
    },
    {
     "name": "stdout",
     "output_type": "stream",
     "text": [
      "DataFrame successfully written to logs.csv\n",
      "   Number  Info                Description                   Timestamp\n",
      "0       2  info  Multiplication result: 12  2024-08-08 10:29:48.485196\n",
      "1       3  info         Division result: 0  2024-08-08 10:29:53.332138\n",
      "2       1  info     Subtraction result: -1  2024-08-08 10:48:52.510545\n",
      "3       4  info         Addition result: 7  2024-08-08 10:48:56.271899\n"
     ]
    }
   ],
   "source": [
    "schema = StructType([\n",
    "    StructField(\"LogId\", IntegerType(), True),\n",
    "    StructField(\"LogType\", StringType(), True),\n",
    "    StructField(\"Log_Message\", StringType(), True),\n",
    "    StructField(\"Log_Timestamp\", TimestampType(), True),\n",
    "])\n",
    "\n",
    "file_name = 'logs.csv'\n",
    "\n",
    "if os.path.exists(file_name):\n",
    "    df = pd.read_csv(file_name)\n",
    "else:\n",
    "    df = pd.DataFrame(columns=['Number', 'Info', 'Description', 'Timestamp'])\n",
    "\n",
    "\n",
    "def sub(a, b):\n",
    "    result = a - b\n",
    "    print(result)\n",
    "    return pd.DataFrame([[1, \"info\", f\"Subtraction result: {result}\", datetime.now()]],columns=['Number', 'Info', 'Description', 'Timestamp'])\n",
    "\n",
    "def mul(a, b):\n",
    "    result = a * b\n",
    "    print(result)\n",
    "    return pd.DataFrame([[2, \"info\", f\"Multiplication result: {result}\", datetime.now()]],columns=['Number', 'Info', 'Description', 'Timestamp'])\n",
    "\n",
    "def div(a, b):\n",
    "    result = a // b\n",
    "    print(result)\n",
    "    return pd.DataFrame([[3, \"info\", f\"Division result: {result}\", datetime.now()]],columns=['Number', 'Info', 'Description', 'Timestamp'])\n",
    "\n",
    "def add(a, b):\n",
    "    result = a + b\n",
    "    print(result)\n",
    "    return pd.DataFrame([[4, \"info\", f\"Addition result: {result}\", datetime.now()]],columns=['Number', 'Info', 'Description', 'Timestamp'])\n",
    "\n",
    "\n",
    "while True:\n",
    "    print(\"Select an operation:\")\n",
    "    print(\"1: Subtraction\")\n",
    "    print(\"2: Multiplication\")\n",
    "    print(\"3: Division\")\n",
    "    print(\"4: Addition\")\n",
    "    print(\"0: Exit\")\n",
    "    \n",
    "    choice = input(\"Enter your choice (0 to exit): \")\n",
    "    \n",
    "    if choice == \"0\":\n",
    "        break\n",
    "    if choice in ('1', '2', '3', '4'):\n",
    "        a = int(input(\"Enter first number: \"))\n",
    "        b = int(input(\"Enter second number: \"))\n",
    "        \n",
    "        if choice == \"1\":\n",
    "            result_df = sub(a, b)\n",
    "        elif choice == \"2\":\n",
    "            result_df = mul(a, b)\n",
    "        elif choice == \"3\":\n",
    "            result_df = div(a, b)\n",
    "        elif choice == \"4\":\n",
    "            result_df = add(a, b)\n",
    "        if not result_df.empty:\n",
    "            df = pd.concat([df, result_df], ignore_index=True)\n",
    "    else:\n",
    "        print(\"Invalid choice, please try again.\")\n",
    "\n",
    "\n",
    "df.to_csv(file_name, index=False)\n",
    "print(\"DataFrame successfully written to\", file_name)\n",
    "\n",
    "\n",
    "df = pd.read_csv(file_name)\n",
    "print(df)\n"
   ]
  }
 ],
 "metadata": {
  "kernelspec": {
   "display_name": "Python 3 (ipykernel)",
   "language": "python",
   "name": "python3"
  },
  "language_info": {
   "codemirror_mode": {
    "name": "ipython",
    "version": 3
   },
   "file_extension": ".py",
   "mimetype": "text/x-python",
   "name": "python",
   "nbconvert_exporter": "python",
   "pygments_lexer": "ipython3",
   "version": "3.12.3"
  }
 },
 "nbformat": 4,
 "nbformat_minor": 5
}
